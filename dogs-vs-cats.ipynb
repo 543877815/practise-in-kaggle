{
 "cells": [
  {
   "cell_type": "markdown",
   "metadata": {},
   "source": [
    "Question from https://www.kaggle.com/c/dogs-vs-cats/\n",
    "\n",
    "Solution from https://github.com/fchollet/deep-learning-with-python-notebooks/blob/master/5.2-using-convnets-with-small-datasets.ipynb\n",
    "\n",
    "submission in https://www.kaggle.com/c/dogs-vs-cats/submit"
   ]
  },
  {
   "cell_type": "code",
   "execution_count": 1,
   "metadata": {
    "_cell_guid": "b1076dfc-b9ad-4769-8c92-a6c4dae69d19",
    "_uuid": "8f2839f25d086af736a60e9eeb907d3b93b6e0e5"
   },
   "outputs": [],
   "source": [
    "# This Python 3 environment comes with many helpful analytics libraries installed\n",
    "# It is defined by the kaggle/python docker image: https://github.com/kaggle/docker-python\n",
    "# For example, here's several helpful packages to load in \n",
    "\n",
    "import numpy as np # linear algebra\n",
    "import pandas as pd # data processing, CSV file I/O (e.g. pd.read_csv)\n",
    "\n",
    "# Input data files are available in the \"../input/\" directory.\n",
    "# For example, running this (by clicking run or pressing Shift+Enter) will list all files under the input directory\n",
    "\n",
    "import os\n",
    "for dirname, _, filenames in os.walk('/kaggle/input'):\n",
    "    for filename in filenames:\n",
    "        print(os.path.join(dirname, filename))\n",
    "\n",
    "# Any results you write to the current directory are saved as output."
   ]
  },
  {
   "cell_type": "markdown",
   "metadata": {},
   "source": [
    "# unzip data and rename"
   ]
  },
  {
   "cell_type": "code",
   "execution_count": null,
   "metadata": {
    "_cell_guid": "79c7e3d0-c299-4dcb-8224-4455121ee9b0",
    "_uuid": "d629ff2d2480ee46fbb7e2d37f6b5fab8052498a"
   },
   "outputs": [],
   "source": [
    "!unzip /kaggle/input/dogs-vs-cats/train.zip"
   ]
  },
  {
   "cell_type": "code",
   "execution_count": null,
   "metadata": {},
   "outputs": [],
   "source": [
    "!unzip /kaggle/input/dogs-vs-cats/test1.zip"
   ]
  },
  {
   "cell_type": "code",
   "execution_count": null,
   "metadata": {},
   "outputs": [],
   "source": [
    "mv ./test1 ./test"
   ]
  },
  {
   "cell_type": "markdown",
   "metadata": {},
   "source": [
    "# copy file in order to use generator"
   ]
  },
  {
   "cell_type": "code",
   "execution_count": 1,
   "metadata": {},
   "outputs": [
    {
     "name": "stderr",
     "output_type": "stream",
     "text": [
      "Using TensorFlow backend.\n"
     ]
    }
   ],
   "source": [
    "import os, shutil\n",
    "from keras.applications import VGG16\n",
    "from keras.preprocessing.image import ImageDataGenerator\n",
    "from keras import layers\n",
    "from keras import models\n",
    "import matplotlib.pyplot as plt\n",
    "import numpy as np\n",
    "import pandas as pd\n",
    "from keras import optimizers"
   ]
  },
  {
   "cell_type": "code",
   "execution_count": 2,
   "metadata": {},
   "outputs": [],
   "source": [
    "# The path to the directory where the original\n",
    "# dataset was uncompressed\n",
    "original_dataset_dir = './train'\n",
    "\n",
    "# The directory where we will\n",
    "# store our smaller dataset\n",
    "base_dir = './cats_and_dogs_small'\n",
    "if not os.path.exists(base_dir):\n",
    "    os.mkdir(base_dir)\n",
    "\n",
    "# Directories for our training,\n",
    "# validation and test splits\n",
    "train_dir = os.path.join(base_dir, 'train')\n",
    "if not os.path.exists(train_dir):\n",
    "    os.mkdir(train_dir)\n",
    "validation_dir = os.path.join(base_dir, 'validation')\n",
    "if not os.path.exists(validation_dir):\n",
    "    os.mkdir(validation_dir)\n",
    "test_dir = os.path.join(base_dir, 'test')\n",
    "if not os.path.exists(test_dir):\n",
    "    os.mkdir(test_dir)\n",
    "\n",
    "# Directory with our training cat pictures\n",
    "train_cats_dir = os.path.join(train_dir, 'cats')\n",
    "if not os.path.exists(train_cats_dir):\n",
    "    os.mkdir(train_cats_dir)\n",
    "\n",
    "# Directory with our training dog pictures\n",
    "train_dogs_dir = os.path.join(train_dir, 'dogs')\n",
    "if not os.path.exists(train_dogs_dir):\n",
    "    os.mkdir(train_dogs_dir)\n",
    "\n",
    "# Directory with our validation cat pictures\n",
    "validation_cats_dir = os.path.join(validation_dir, 'cats')\n",
    "if not os.path.exists(validation_cats_dir):\n",
    "    os.mkdir(validation_cats_dir)\n",
    "\n",
    "# Directory with our validation dog pictures\n",
    "validation_dogs_dir = os.path.join(validation_dir, 'dogs')\n",
    "if not os.path.exists(validation_dogs_dir):\n",
    "    os.mkdir(validation_dogs_dir)\n",
    "\n",
    "# Directory with our validation cat pictures\n",
    "test_cats_dir = os.path.join(test_dir, 'cats')\n",
    "if not os.path.exists(test_cats_dir):\n",
    "    os.mkdir(test_cats_dir)\n",
    "\n",
    "# Directory with our validation dog pictures\n",
    "test_dogs_dir = os.path.join(test_dir, 'dogs')\n",
    "if not os.path.exists(test_dogs_dir):\n",
    "    os.mkdir(test_dogs_dir)\n",
    "\n",
    "# Copy first 1000 cat images to train_cats_dir\n",
    "fnames = ['cat.{}.jpg'.format(i) for i in range(1000)]\n",
    "for fname in fnames:\n",
    "    src = os.path.join(original_dataset_dir, fname)\n",
    "    dst = os.path.join(train_cats_dir, fname)\n",
    "    shutil.copyfile(src, dst)\n",
    "\n",
    "# Copy next 500 cat images to validation_cats_dir\n",
    "fnames = ['cat.{}.jpg'.format(i) for i in range(1000, 1500)]\n",
    "for fname in fnames:\n",
    "    src = os.path.join(original_dataset_dir, fname)\n",
    "    dst = os.path.join(validation_cats_dir, fname)\n",
    "    shutil.copyfile(src, dst)\n",
    "    \n",
    "# Copy next 500 cat images to test_cats_dir\n",
    "fnames = ['cat.{}.jpg'.format(i) for i in range(1500, 2000)]\n",
    "for fname in fnames:\n",
    "    src = os.path.join(original_dataset_dir, fname)\n",
    "    dst = os.path.join(test_cats_dir, fname)\n",
    "    shutil.copyfile(src, dst)\n",
    "    \n",
    "# Copy first 1000 dog images to train_dogs_dir\n",
    "fnames = ['dog.{}.jpg'.format(i) for i in range(1000)]\n",
    "for fname in fnames:\n",
    "    src = os.path.join(original_dataset_dir, fname)\n",
    "    dst = os.path.join(train_dogs_dir, fname)\n",
    "    shutil.copyfile(src, dst)\n",
    "    \n",
    "# Copy next 500 dog images to validation_dogs_dir\n",
    "fnames = ['dog.{}.jpg'.format(i) for i in range(1000, 1500)]\n",
    "for fname in fnames:\n",
    "    src = os.path.join(original_dataset_dir, fname)\n",
    "    dst = os.path.join(validation_dogs_dir, fname)\n",
    "    shutil.copyfile(src, dst)\n",
    "    \n",
    "# Copy next 500 dog images to test_dogs_dir\n",
    "fnames = ['dog.{}.jpg'.format(i) for i in range(1500, 2000)]\n",
    "for fname in fnames:\n",
    "    src = os.path.join(original_dataset_dir, fname)\n",
    "    dst = os.path.join(test_dogs_dir, fname)\n",
    "    shutil.copyfile(src, dst)"
   ]
  },
  {
   "cell_type": "code",
   "execution_count": 3,
   "metadata": {},
   "outputs": [
    {
     "name": "stdout",
     "output_type": "stream",
     "text": [
      "total training cat images: 1000\n",
      "total training dog images: 1000\n",
      "total validation cat images: 500\n",
      "total validation dog images: 500\n",
      "total test cat images: 500\n",
      "total test dog images: 500\n"
     ]
    }
   ],
   "source": [
    "print('total training cat images:', len(os.listdir(train_cats_dir)))\n",
    "print('total training dog images:', len(os.listdir(train_dogs_dir)))\n",
    "print('total validation cat images:', len(os.listdir(validation_cats_dir)))\n",
    "print('total validation dog images:', len(os.listdir(validation_dogs_dir)))\n",
    "print('total test cat images:', len(os.listdir(test_cats_dir)))\n",
    "print('total test dog images:', len(os.listdir(test_dogs_dir)))"
   ]
  },
  {
   "cell_type": "markdown",
   "metadata": {},
   "source": [
    "## Fine-tuning"
   ]
  },
  {
   "cell_type": "code",
   "execution_count": 4,
   "metadata": {},
   "outputs": [],
   "source": [
    "conv_base = VGG16(weights='imagenet',\n",
    "                  include_top=False,\n",
    "                  input_shape=(150, 150, 3))"
   ]
  },
  {
   "cell_type": "code",
   "execution_count": 5,
   "metadata": {},
   "outputs": [],
   "source": [
    "model = models.Sequential()\n",
    "model.add(conv_base)\n",
    "model.add(layers.Flatten())\n",
    "model.add(layers.Dense(256, activation='relu'))\n",
    "model.add(layers.Dense(1, activation='sigmoid'))"
   ]
  },
  {
   "cell_type": "code",
   "execution_count": 6,
   "metadata": {},
   "outputs": [],
   "source": [
    "conv_base.trainable = True\n",
    "\n",
    "set_trainable = False\n",
    "for layer in conv_base.layers:\n",
    "    if layer.name == 'block5_conv1':\n",
    "        set_trainable = True\n",
    "    if set_trainable:\n",
    "        layer.trainable = True\n",
    "    else:\n",
    "        layer.trainable = False"
   ]
  },
  {
   "cell_type": "code",
   "execution_count": 7,
   "metadata": {},
   "outputs": [
    {
     "name": "stdout",
     "output_type": "stream",
     "text": [
      "Found 2000 images belonging to 2 classes.\n",
      "Found 1000 images belonging to 2 classes.\n"
     ]
    }
   ],
   "source": [
    "train_datagen = ImageDataGenerator(\n",
    "      rescale=1./255,\n",
    "      rotation_range=40,\n",
    "      width_shift_range=0.2,\n",
    "      height_shift_range=0.2,\n",
    "      shear_range=0.2,\n",
    "      zoom_range=0.2,\n",
    "      horizontal_flip=True,\n",
    "      fill_mode='nearest')\n",
    "\n",
    "# Note that the validation data should not be augmented!\n",
    "test_datagen = ImageDataGenerator(rescale=1./255)\n",
    "\n",
    "train_generator = train_datagen.flow_from_directory(\n",
    "        # This is the target directory\n",
    "        train_dir,\n",
    "        # All images will be resized to 150x150\n",
    "        target_size=(150, 150),\n",
    "        batch_size=20,\n",
    "        # Since we use binary_crossentropy loss, we need binary labels\n",
    "        class_mode='binary')\n",
    "\n",
    "validation_generator = test_datagen.flow_from_directory(\n",
    "        validation_dir,\n",
    "        target_size=(150, 150),\n",
    "        batch_size=20,\n",
    "        class_mode='binary')"
   ]
  },
  {
   "cell_type": "code",
   "execution_count": 8,
   "metadata": {
    "scrolled": true
   },
   "outputs": [
    {
     "name": "stdout",
     "output_type": "stream",
     "text": [
      "Epoch 1/100\n",
      "100/100 [==============================] - 16s 161ms/step - loss: 0.5351 - acc: 0.7280 - val_loss: 0.3749 - val_acc: 0.8670\n",
      "Epoch 2/100\n",
      "100/100 [==============================] - 15s 147ms/step - loss: 0.3735 - acc: 0.8295 - val_loss: 0.3166 - val_acc: 0.8900\n",
      "Epoch 3/100\n",
      "100/100 [==============================] - 14s 136ms/step - loss: 0.3086 - acc: 0.8725 - val_loss: 0.3631 - val_acc: 0.8880\n",
      "Epoch 4/100\n",
      "100/100 [==============================] - 13s 134ms/step - loss: 0.2883 - acc: 0.8785 - val_loss: 0.0607 - val_acc: 0.9170\n",
      "Epoch 5/100\n",
      "100/100 [==============================] - 13s 129ms/step - loss: 0.2676 - acc: 0.8845 - val_loss: 0.3631 - val_acc: 0.8730\n",
      "Epoch 6/100\n",
      "100/100 [==============================] - 12s 124ms/step - loss: 0.2432 - acc: 0.8940 - val_loss: 0.1364 - val_acc: 0.9270\n",
      "Epoch 7/100\n",
      "100/100 [==============================] - 12s 116ms/step - loss: 0.2523 - acc: 0.8960 - val_loss: 0.0474 - val_acc: 0.9160\n",
      "Epoch 8/100\n",
      "100/100 [==============================] - 14s 143ms/step - loss: 0.2217 - acc: 0.9090 - val_loss: 0.2542 - val_acc: 0.9280\n",
      "Epoch 9/100\n",
      "100/100 [==============================] - 12s 123ms/step - loss: 0.2094 - acc: 0.9130 - val_loss: 0.2247 - val_acc: 0.9280\n",
      "Epoch 10/100\n",
      "100/100 [==============================] - 13s 128ms/step - loss: 0.2088 - acc: 0.9110 - val_loss: 0.3289 - val_acc: 0.9250\n",
      "Epoch 11/100\n",
      "100/100 [==============================] - 12s 122ms/step - loss: 0.1986 - acc: 0.9190 - val_loss: 0.1718 - val_acc: 0.9250\n",
      "Epoch 12/100\n",
      "100/100 [==============================] - 13s 129ms/step - loss: 0.1891 - acc: 0.9280 - val_loss: 0.5223 - val_acc: 0.9260\n",
      "Epoch 13/100\n",
      "100/100 [==============================] - 12s 122ms/step - loss: 0.1885 - acc: 0.9165 - val_loss: 0.1001 - val_acc: 0.9320\n",
      "Epoch 14/100\n",
      "100/100 [==============================] - 13s 130ms/step - loss: 0.1800 - acc: 0.9295 - val_loss: 0.0739 - val_acc: 0.9330\n",
      "Epoch 15/100\n",
      "100/100 [==============================] - 12s 124ms/step - loss: 0.1612 - acc: 0.9380 - val_loss: 0.0024 - val_acc: 0.9260\n",
      "Epoch 16/100\n",
      "100/100 [==============================] - 14s 137ms/step - loss: 0.1700 - acc: 0.9320 - val_loss: 0.0778 - val_acc: 0.9160\n",
      "Epoch 17/100\n",
      "100/100 [==============================] - 13s 126ms/step - loss: 0.1479 - acc: 0.9385 - val_loss: 0.0378 - val_acc: 0.9360\n",
      "Epoch 18/100\n",
      "100/100 [==============================] - 14s 139ms/step - loss: 0.1441 - acc: 0.9430 - val_loss: 0.1227 - val_acc: 0.9330\n",
      "Epoch 19/100\n",
      "100/100 [==============================] - 14s 140ms/step - loss: 0.1300 - acc: 0.9450 - val_loss: 0.1009 - val_acc: 0.9380\n",
      "Epoch 20/100\n",
      "100/100 [==============================] - 15s 150ms/step - loss: 0.1292 - acc: 0.9495 - val_loss: 0.0601 - val_acc: 0.9400\n",
      "Epoch 21/100\n",
      "100/100 [==============================] - 12s 123ms/step - loss: 0.1254 - acc: 0.9510 - val_loss: 0.0303 - val_acc: 0.9390\n",
      "Epoch 22/100\n",
      "100/100 [==============================] - 13s 133ms/step - loss: 0.1301 - acc: 0.9455 - val_loss: 0.1475 - val_acc: 0.9220\n",
      "Epoch 23/100\n",
      "100/100 [==============================] - 12s 124ms/step - loss: 0.1153 - acc: 0.9520 - val_loss: 0.0718 - val_acc: 0.9320\n",
      "Epoch 24/100\n",
      "100/100 [==============================] - 12s 121ms/step - loss: 0.1335 - acc: 0.9465 - val_loss: 0.1130 - val_acc: 0.9370\n",
      "Epoch 25/100\n",
      "100/100 [==============================] - 13s 130ms/step - loss: 0.1135 - acc: 0.9540 - val_loss: 0.5438 - val_acc: 0.9200\n",
      "Epoch 26/100\n",
      "100/100 [==============================] - 13s 129ms/step - loss: 0.1166 - acc: 0.9535 - val_loss: 0.0766 - val_acc: 0.9230\n",
      "Epoch 27/100\n",
      "100/100 [==============================] - 12s 123ms/step - loss: 0.1083 - acc: 0.9585 - val_loss: 0.1601 - val_acc: 0.9340\n",
      "Epoch 28/100\n",
      "100/100 [==============================] - 12s 120ms/step - loss: 0.1024 - acc: 0.9565 - val_loss: 0.0329 - val_acc: 0.9340\n",
      "Epoch 29/100\n",
      "100/100 [==============================] - 13s 127ms/step - loss: 0.0971 - acc: 0.9635 - val_loss: 0.1010 - val_acc: 0.9320\n",
      "Epoch 30/100\n",
      "100/100 [==============================] - 12s 124ms/step - loss: 0.0827 - acc: 0.9675 - val_loss: 0.1531 - val_acc: 0.9230\n",
      "Epoch 31/100\n",
      "100/100 [==============================] - 16s 160ms/step - loss: 0.0943 - acc: 0.9635 - val_loss: 0.1759 - val_acc: 0.9400\n",
      "Epoch 32/100\n",
      "100/100 [==============================] - 14s 140ms/step - loss: 0.0971 - acc: 0.9610 - val_loss: 0.1613 - val_acc: 0.9350\n",
      "Epoch 33/100\n",
      "100/100 [==============================] - 14s 144ms/step - loss: 0.1033 - acc: 0.9560 - val_loss: 0.0768 - val_acc: 0.9320\n",
      "Epoch 34/100\n",
      "100/100 [==============================] - 13s 134ms/step - loss: 0.0807 - acc: 0.9700 - val_loss: 0.2897 - val_acc: 0.9300\n",
      "Epoch 35/100\n",
      "100/100 [==============================] - 13s 131ms/step - loss: 0.0843 - acc: 0.9670 - val_loss: 0.0099 - val_acc: 0.9360\n",
      "Epoch 36/100\n",
      "100/100 [==============================] - 12s 116ms/step - loss: 0.0826 - acc: 0.9650 - val_loss: 0.0037 - val_acc: 0.9330\n",
      "Epoch 37/100\n",
      "100/100 [==============================] - 13s 132ms/step - loss: 0.0916 - acc: 0.9635 - val_loss: 0.2835 - val_acc: 0.9300\n",
      "Epoch 38/100\n",
      "100/100 [==============================] - 14s 137ms/step - loss: 0.0788 - acc: 0.9685 - val_loss: 0.0855 - val_acc: 0.9310\n",
      "Epoch 39/100\n",
      "100/100 [==============================] - 12s 119ms/step - loss: 0.0691 - acc: 0.9730 - val_loss: 0.3298 - val_acc: 0.9380\n",
      "Epoch 40/100\n",
      "100/100 [==============================] - 13s 130ms/step - loss: 0.0715 - acc: 0.9760 - val_loss: 0.5206 - val_acc: 0.9250\n",
      "Epoch 41/100\n",
      "100/100 [==============================] - 13s 126ms/step - loss: 0.0725 - acc: 0.9705 - val_loss: 0.3639 - val_acc: 0.9360\n",
      "Epoch 42/100\n",
      "100/100 [==============================] - 16s 164ms/step - loss: 0.0773 - acc: 0.9720 - val_loss: 0.0516 - val_acc: 0.9460\n",
      "Epoch 43/100\n",
      "100/100 [==============================] - 13s 127ms/step - loss: 0.0693 - acc: 0.9720 - val_loss: 0.7018 - val_acc: 0.9430\n",
      "Epoch 44/100\n",
      "100/100 [==============================] - 13s 125ms/step - loss: 0.0700 - acc: 0.9745 - val_loss: 0.1637 - val_acc: 0.9410\n",
      "Epoch 45/100\n",
      "100/100 [==============================] - 14s 140ms/step - loss: 0.0647 - acc: 0.9740 - val_loss: 0.1447 - val_acc: 0.9410\n",
      "Epoch 46/100\n",
      "100/100 [==============================] - 12s 125ms/step - loss: 0.0650 - acc: 0.9775 - val_loss: 0.0856 - val_acc: 0.9230\n",
      "Epoch 47/100\n",
      "100/100 [==============================] - 14s 140ms/step - loss: 0.0584 - acc: 0.9780 - val_loss: 0.0283 - val_acc: 0.9190\n",
      "Epoch 48/100\n",
      "100/100 [==============================] - 20s 195ms/step - loss: 0.0562 - acc: 0.9780 - val_loss: 0.8260 - val_acc: 0.9130\n",
      "Epoch 49/100\n",
      "100/100 [==============================] - 16s 160ms/step - loss: 0.0486 - acc: 0.9805 - val_loss: 0.0142 - val_acc: 0.9380\n",
      "Epoch 50/100\n",
      "100/100 [==============================] - 19s 191ms/step - loss: 0.0593 - acc: 0.9790 - val_loss: 0.2495 - val_acc: 0.9420\n",
      "Epoch 51/100\n",
      "100/100 [==============================] - 17s 174ms/step - loss: 0.0613 - acc: 0.9765 - val_loss: 9.7917e-04 - val_acc: 0.9440\n",
      "Epoch 52/100\n",
      "100/100 [==============================] - 17s 171ms/step - loss: 0.0550 - acc: 0.9805 - val_loss: 0.3363 - val_acc: 0.9330\n",
      "Epoch 53/100\n",
      "100/100 [==============================] - 16s 157ms/step - loss: 0.0550 - acc: 0.9780 - val_loss: 0.4516 - val_acc: 0.9380\n",
      "Epoch 54/100\n",
      "100/100 [==============================] - 18s 177ms/step - loss: 0.0485 - acc: 0.9805 - val_loss: 0.9972 - val_acc: 0.9210\n",
      "Epoch 55/100\n",
      "100/100 [==============================] - 17s 168ms/step - loss: 0.0494 - acc: 0.9835 - val_loss: 0.6123 - val_acc: 0.9350\n",
      "Epoch 56/100\n",
      "100/100 [==============================] - 17s 173ms/step - loss: 0.0512 - acc: 0.9825 - val_loss: 3.0583e-04 - val_acc: 0.9350\n",
      "Epoch 57/100\n",
      "100/100 [==============================] - 17s 172ms/step - loss: 0.0441 - acc: 0.9865 - val_loss: 0.0956 - val_acc: 0.9240\n",
      "Epoch 58/100\n",
      "100/100 [==============================] - 17s 166ms/step - loss: 0.0335 - acc: 0.9895 - val_loss: 2.8187e-04 - val_acc: 0.9330\n",
      "Epoch 59/100\n",
      "100/100 [==============================] - 19s 194ms/step - loss: 0.0468 - acc: 0.9825 - val_loss: 0.9421 - val_acc: 0.9280\n",
      "Epoch 60/100\n",
      "100/100 [==============================] - 18s 182ms/step - loss: 0.0462 - acc: 0.9835 - val_loss: 0.9700 - val_acc: 0.9340\n"
     ]
    },
    {
     "name": "stdout",
     "output_type": "stream",
     "text": [
      "Epoch 61/100\n",
      "100/100 [==============================] - 17s 165ms/step - loss: 0.0496 - acc: 0.9840 - val_loss: 0.2338 - val_acc: 0.9420\n",
      "Epoch 62/100\n",
      "100/100 [==============================] - 18s 176ms/step - loss: 0.0439 - acc: 0.9855 - val_loss: 0.0519 - val_acc: 0.9460\n",
      "Epoch 63/100\n",
      "100/100 [==============================] - 17s 165ms/step - loss: 0.0403 - acc: 0.9840 - val_loss: 0.4380 - val_acc: 0.9420\n",
      "Epoch 64/100\n",
      "100/100 [==============================] - 16s 160ms/step - loss: 0.0511 - acc: 0.9810 - val_loss: 0.3202 - val_acc: 0.9390\n",
      "Epoch 65/100\n",
      "100/100 [==============================] - 15s 153ms/step - loss: 0.0380 - acc: 0.9865 - val_loss: 6.3594e-04 - val_acc: 0.9370\n",
      "Epoch 66/100\n",
      "100/100 [==============================] - 18s 181ms/step - loss: 0.0421 - acc: 0.9850 - val_loss: 0.5063 - val_acc: 0.9300\n",
      "Epoch 67/100\n",
      "100/100 [==============================] - 16s 165ms/step - loss: 0.0357 - acc: 0.9880 - val_loss: 0.5792 - val_acc: 0.9320\n",
      "Epoch 68/100\n",
      "100/100 [==============================] - 17s 167ms/step - loss: 0.0348 - acc: 0.9845 - val_loss: 0.0733 - val_acc: 0.9390\n",
      "Epoch 69/100\n",
      "100/100 [==============================] - 17s 170ms/step - loss: 0.0369 - acc: 0.9845 - val_loss: 0.2763 - val_acc: 0.9370\n",
      "Epoch 70/100\n",
      "100/100 [==============================] - 16s 162ms/step - loss: 0.0361 - acc: 0.9880 - val_loss: 0.3321 - val_acc: 0.9400\n",
      "Epoch 71/100\n",
      "100/100 [==============================] - 18s 175ms/step - loss: 0.0380 - acc: 0.9875 - val_loss: 0.2549 - val_acc: 0.9350\n",
      "Epoch 72/100\n",
      "100/100 [==============================] - 17s 171ms/step - loss: 0.0312 - acc: 0.9905 - val_loss: 0.3073 - val_acc: 0.9320\n",
      "Epoch 73/100\n",
      "100/100 [==============================] - 15s 151ms/step - loss: 0.0346 - acc: 0.9860 - val_loss: 0.1675 - val_acc: 0.9370\n",
      "Epoch 74/100\n",
      "100/100 [==============================] - 18s 177ms/step - loss: 0.0429 - acc: 0.9865 - val_loss: 0.3894 - val_acc: 0.9370\n",
      "Epoch 75/100\n",
      "100/100 [==============================] - 18s 178ms/step - loss: 0.0260 - acc: 0.9900 - val_loss: 0.2688 - val_acc: 0.9370\n",
      "Epoch 76/100\n",
      "100/100 [==============================] - 15s 154ms/step - loss: 0.0336 - acc: 0.9860 - val_loss: 7.5144e-06 - val_acc: 0.9420\n",
      "Epoch 77/100\n",
      "100/100 [==============================] - 17s 173ms/step - loss: 0.0284 - acc: 0.9885 - val_loss: 0.0575 - val_acc: 0.9420\n",
      "Epoch 78/100\n",
      "100/100 [==============================] - 18s 181ms/step - loss: 0.0383 - acc: 0.9840 - val_loss: 0.0078 - val_acc: 0.9430\n",
      "Epoch 79/100\n",
      "100/100 [==============================] - 17s 167ms/step - loss: 0.0329 - acc: 0.9885 - val_loss: 0.0585 - val_acc: 0.9370\n",
      "Epoch 80/100\n",
      "100/100 [==============================] - 17s 171ms/step - loss: 0.0273 - acc: 0.9900 - val_loss: 0.0695 - val_acc: 0.9300\n",
      "Epoch 81/100\n",
      "100/100 [==============================] - 17s 167ms/step - loss: 0.0207 - acc: 0.9915 - val_loss: 0.0367 - val_acc: 0.9400\n",
      "Epoch 82/100\n",
      "100/100 [==============================] - 15s 154ms/step - loss: 0.0333 - acc: 0.9880 - val_loss: 0.0017 - val_acc: 0.9360\n",
      "Epoch 83/100\n",
      "100/100 [==============================] - 18s 179ms/step - loss: 0.0372 - acc: 0.9865 - val_loss: 0.6519 - val_acc: 0.9400\n",
      "Epoch 84/100\n",
      "100/100 [==============================] - 17s 170ms/step - loss: 0.0243 - acc: 0.9910 - val_loss: 0.3030 - val_acc: 0.9390\n",
      "Epoch 85/100\n",
      "100/100 [==============================] - 18s 183ms/step - loss: 0.0237 - acc: 0.9920 - val_loss: 0.4364 - val_acc: 0.9320\n",
      "Epoch 86/100\n",
      "100/100 [==============================] - 16s 162ms/step - loss: 0.0221 - acc: 0.9925 - val_loss: 0.0273 - val_acc: 0.9360\n",
      "Epoch 87/100\n",
      "100/100 [==============================] - 17s 168ms/step - loss: 0.0349 - acc: 0.9885 - val_loss: 0.0550 - val_acc: 0.9230\n",
      "Epoch 88/100\n",
      "100/100 [==============================] - 17s 167ms/step - loss: 0.0294 - acc: 0.9905 - val_loss: 0.4644 - val_acc: 0.9350\n",
      "Epoch 89/100\n",
      "100/100 [==============================] - 15s 152ms/step - loss: 0.0190 - acc: 0.9940 - val_loss: 0.6182 - val_acc: 0.9310\n",
      "Epoch 90/100\n",
      "100/100 [==============================] - 17s 167ms/step - loss: 0.0280 - acc: 0.9890 - val_loss: 0.0996 - val_acc: 0.9370\n",
      "Epoch 91/100\n",
      "100/100 [==============================] - 18s 178ms/step - loss: 0.0312 - acc: 0.9885 - val_loss: 0.0016 - val_acc: 0.9360\n",
      "Epoch 92/100\n",
      "100/100 [==============================] - 17s 171ms/step - loss: 0.0315 - acc: 0.9890 - val_loss: 0.1288 - val_acc: 0.9390\n",
      "Epoch 93/100\n",
      "100/100 [==============================] - 18s 182ms/step - loss: 0.0261 - acc: 0.9910 - val_loss: 5.3234e-04 - val_acc: 0.9370\n",
      "Epoch 94/100\n",
      "100/100 [==============================] - 17s 168ms/step - loss: 0.0262 - acc: 0.9920 - val_loss: 0.7848 - val_acc: 0.9360\n",
      "Epoch 95/100\n",
      "100/100 [==============================] - 17s 173ms/step - loss: 0.0255 - acc: 0.9910 - val_loss: 0.0063 - val_acc: 0.9350\n",
      "Epoch 96/100\n",
      "100/100 [==============================] - 16s 161ms/step - loss: 0.0138 - acc: 0.9950 - val_loss: 0.2584 - val_acc: 0.9300\n",
      "Epoch 97/100\n",
      "100/100 [==============================] - 17s 174ms/step - loss: 0.0227 - acc: 0.9935 - val_loss: 0.1031 - val_acc: 0.9330\n",
      "Epoch 98/100\n",
      "100/100 [==============================] - 16s 164ms/step - loss: 0.0224 - acc: 0.9895 - val_loss: 1.3623e-04 - val_acc: 0.9320\n",
      "Epoch 99/100\n",
      "100/100 [==============================] - 17s 168ms/step - loss: 0.0220 - acc: 0.9920 - val_loss: 0.0051 - val_acc: 0.9370\n",
      "Epoch 100/100\n",
      "100/100 [==============================] - 16s 160ms/step - loss: 0.0256 - acc: 0.9900 - val_loss: 0.3686 - val_acc: 0.9390\n"
     ]
    }
   ],
   "source": [
    "model.compile(loss='binary_crossentropy',\n",
    "              optimizer=optimizers.RMSprop(lr=1e-5),\n",
    "              metrics=['acc'])\n",
    "\n",
    "history = model.fit_generator(\n",
    "      train_generator,\n",
    "      steps_per_epoch=100,\n",
    "      epochs=100,\n",
    "      validation_data=validation_generator,\n",
    "      validation_steps=50)"
   ]
  },
  {
   "cell_type": "code",
   "execution_count": 9,
   "metadata": {},
   "outputs": [
    {
     "data": {
      "image/png": "[encoded data removed]",
      "text/plain": [
       "<Figure size 432x288 with 1 Axes>"
      ]
     },
     "metadata": {
      "needs_background": "light"
     },
     "output_type": "display_data"
    },
    {
     "data": {
      "image/png": "[encoded data removed]",
      "text/plain": [
       "<Figure size 432x288 with 1 Axes>"
      ]
     },
     "metadata": {
      "needs_background": "light"
     },
     "output_type": "display_data"
    }
   ],
   "source": [
    "acc = history.history['acc']\n",
    "val_acc = history.history['val_acc']\n",
    "loss = history.history['loss']\n",
    "val_loss = history.history['val_loss']\n",
    "\n",
    "epochs = range(len(acc))\n",
    "\n",
    "plt.plot(epochs, acc, 'bo', label='Training acc')\n",
    "plt.plot(epochs, val_acc, 'b', label='Validation acc')\n",
    "plt.title('Training and validation accuracy')\n",
    "plt.legend()\n",
    "\n",
    "plt.figure()\n",
    "\n",
    "plt.plot(epochs, loss, 'bo', label='Training loss')\n",
    "plt.plot(epochs, val_loss, 'b', label='Validation loss')\n",
    "plt.title('Training and validation loss')\n",
    "plt.legend()\n",
    "\n",
    "plt.show()"
   ]
  },
  {
   "cell_type": "code",
   "execution_count": 10,
   "metadata": {},
   "outputs": [
    {
     "data": {
      "image/png": "[encoded data removed]",
      "text/plain": [
       "<Figure size 432x288 with 1 Axes>"
      ]
     },
     "metadata": {
      "needs_background": "light"
     },
     "output_type": "display_data"
    },
    {
     "data": {
      "image/png": "[encoded data removed]",
      "text/plain": [
       "<Figure size 432x288 with 1 Axes>"
      ]
     },
     "metadata": {
      "needs_background": "light"
     },
     "output_type": "display_data"
    }
   ],
   "source": [
    "def smooth_curve(points, factor=0.8):\n",
    "    smoothed_points = []\n",
    "    for point in points:\n",
    "        if smoothed_points:\n",
    "            previous = smoothed_points[-1]\n",
    "            smoothed_points.append(previous * factor + point * (1 - factor))\n",
    "        else:\n",
    "            smoothed_points.append(point)\n",
    "    return smoothed_points\n",
    "\n",
    "plt.plot(epochs,\n",
    "         smooth_curve(acc), 'bo', label='Smoothed training acc')\n",
    "plt.plot(epochs,\n",
    "         smooth_curve(val_acc), 'b', label='Smoothed validation acc')\n",
    "plt.title('Training and validation accuracy')\n",
    "plt.legend()\n",
    "\n",
    "plt.figure()\n",
    "\n",
    "plt.plot(epochs,\n",
    "         smooth_curve(loss), 'bo', label='Smoothed training loss')\n",
    "plt.plot(epochs,\n",
    "         smooth_curve(val_loss), 'b', label='Smoothed validation loss')\n",
    "plt.title('Training and validation loss')\n",
    "plt.legend()\n",
    "\n",
    "plt.show()"
   ]
  },
  {
   "cell_type": "code",
   "execution_count": 11,
   "metadata": {},
   "outputs": [
    {
     "name": "stdout",
     "output_type": "stream",
     "text": [
      "Found 1000 images belonging to 2 classes.\n",
      "test acc: 0.9319999814033508\n"
     ]
    }
   ],
   "source": [
    "test_generator = test_datagen.flow_from_directory(\n",
    "        test_dir,\n",
    "        target_size=(150, 150),\n",
    "        batch_size=20,\n",
    "        class_mode='binary')\n",
    "\n",
    "test_loss, test_acc = model.evaluate_generator(test_generator, steps=50)\n",
    "print('test acc:', test_acc)"
   ]
  },
  {
   "cell_type": "markdown",
   "metadata": {},
   "source": [
    "# Predict"
   ]
  },
  {
   "cell_type": "code",
   "execution_count": 12,
   "metadata": {},
   "outputs": [],
   "source": [
    "predict = model.predict_generator(test_generator, steps=50)"
   ]
  },
  {
   "cell_type": "code",
   "execution_count": 13,
   "metadata": {},
   "outputs": [],
   "source": [
    "labels = np.round(predict)"
   ]
  },
  {
   "cell_type": "code",
   "execution_count": 14,
   "metadata": {},
   "outputs": [],
   "source": [
    "import pandas as pd\n",
    "submission_df  = pd.DataFrame(labels, dtype='int')"
   ]
  },
  {
   "cell_type": "code",
   "execution_count": 15,
   "metadata": {},
   "outputs": [],
   "source": [
    "submission_df[\"id\"] = submission_df.index + 1\n",
    "submission_df['label'] = submission_df[0]\n",
    "submission_df = submission_df.drop(0, axis=1)"
   ]
  },
  {
   "cell_type": "code",
   "execution_count": 16,
   "metadata": {},
   "outputs": [
    {
     "data": {
      "text/html": [
       "<div>\n",
       "<style scoped>\n",
       "    .dataframe tbody tr th:only-of-type {\n",
       "        vertical-align: middle;\n",
       "    }\n",
       "\n",
       "    .dataframe tbody tr th {\n",
       "        vertical-align: top;\n",
       "    }\n",
       "\n",
       "    .dataframe thead th {\n",
       "        text-align: right;\n",
       "    }\n",
       "</style>\n",
       "<table border=\"1\" class=\"dataframe\">\n",
       "  <thead>\n",
       "    <tr style=\"text-align: right;\">\n",
       "      <th></th>\n",
       "      <th>id</th>\n",
       "      <th>label</th>\n",
       "    </tr>\n",
       "  </thead>\n",
       "  <tbody>\n",
       "    <tr>\n",
       "      <th>0</th>\n",
       "      <td>1</td>\n",
       "      <td>1</td>\n",
       "    </tr>\n",
       "    <tr>\n",
       "      <th>1</th>\n",
       "      <td>2</td>\n",
       "      <td>1</td>\n",
       "    </tr>\n",
       "    <tr>\n",
       "      <th>2</th>\n",
       "      <td>3</td>\n",
       "      <td>1</td>\n",
       "    </tr>\n",
       "    <tr>\n",
       "      <th>3</th>\n",
       "      <td>4</td>\n",
       "      <td>0</td>\n",
       "    </tr>\n",
       "    <tr>\n",
       "      <th>4</th>\n",
       "      <td>5</td>\n",
       "      <td>1</td>\n",
       "    </tr>\n",
       "  </tbody>\n",
       "</table>\n",
       "</div>"
      ],
      "text/plain": [
       "   id  label\n",
       "0   1      1\n",
       "1   2      1\n",
       "2   3      1\n",
       "3   4      0\n",
       "4   5      1"
      ]
     },
     "execution_count": 16,
     "metadata": {},
     "output_type": "execute_result"
    }
   ],
   "source": [
    "submission_df.head()"
   ]
  },
  {
   "cell_type": "code",
   "execution_count": 17,
   "metadata": {},
   "outputs": [],
   "source": [
    "submission_df.to_csv('submission.csv', index=False, header=['id','label'])"
   ]
  }
 ],
 "metadata": {
  "kernelspec": {
   "display_name": "Python 3",
   "language": "python",
   "name": "python3"
  },
  "language_info": {
   "codemirror_mode": {
    "name": "ipython",
    "version": 3
   },
   "file_extension": ".py",
   "mimetype": "text/x-python",
   "name": "python",
   "nbconvert_exporter": "python",
   "pygments_lexer": "ipython3",
   "version": "3.6.8"
  }
 },
 "nbformat": 4,
 "nbformat_minor": 1
}
